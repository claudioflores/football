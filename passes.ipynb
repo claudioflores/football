{
 "cells": [
  {
   "cell_type": "code",
   "execution_count": 1,
   "metadata": {},
   "outputs": [],
   "source": [
    "import math\n",
    "import matplotlib.pyplot as plt \n",
    "import pandas as pd\n",
    "import numpy as np \n",
    "import math \n",
    "import scipy.constants as const\n",
    "import time"
   ]
  },
  {
   "cell_type": "code",
   "execution_count": 3,
   "metadata": {},
   "outputs": [],
   "source": [
    "events = pd.read_csv('Sample_Game_1_RawEventsData.csv') # read data\n",
    "home = pd.read_csv('Game1_Home.csv') # read data\n",
    "away = pd.read_csv('Game1_Away.csv') # read data\n",
    "\n",
    "p_length = 110\n",
    "p_width = 65"
   ]
  },
  {
   "cell_type": "code",
   "execution_count": 4,
   "metadata": {},
   "outputs": [],
   "source": [
    "home_players = list({player[0:len(player)-2] for player in list(home)[3:30]})\n",
    "away_players = list({player[0:len(player)-2] for player in list(away)[3:30]})"
   ]
  },
  {
   "cell_type": "code",
   "execution_count": 5,
   "metadata": {},
   "outputs": [
    {
     "data": {
      "text/plain": [
       "array([nan, 'HEAD', 'CROSS', 'GOAL KICK', 'DEEP BALL',\n",
       "       'THROUGH BALL-DEEP BALL', 'HEAD-CLEARANCE', 'CLEARANCE'],\n",
       "      dtype=object)"
      ]
     },
     "execution_count": 5,
     "metadata": {},
     "output_type": "execute_result"
    }
   ],
   "source": [
    "events[events.Type=='PASS'].Subtype.unique()"
   ]
  },
  {
   "cell_type": "code",
   "execution_count": 6,
   "metadata": {},
   "outputs": [],
   "source": [
    "subtypes = ['CROSS','GOAL KICK','DEEP BALL','THROUGH BALL-DEEP BALL']"
   ]
  },
  {
   "cell_type": "code",
   "execution_count": 7,
   "metadata": {},
   "outputs": [],
   "source": [
    "passes = events[(events.Type=='PASS')&((events.Subtype.isnull())|(events.Subtype.isin(subtypes)))].copy()\n",
    "passes['time'] = passes['End Time [s]'] - passes['Start Time [s]']\n",
    "passes['distance'] =((110*(passes['Start X']-passes['End X']))**2+(65*(passes['Start Y']-passes['End Y']))**2)**0.5\n",
    "passes['speed'] = passes['distance']/passes['time']"
   ]
  },
  {
   "cell_type": "code",
   "execution_count": 8,
   "metadata": {},
   "outputs": [
    {
     "data": {
      "text/plain": [
       "<matplotlib.collections.PathCollection at 0x169b92b7ac8>"
      ]
     },
     "execution_count": 8,
     "metadata": {},
     "output_type": "execute_result"
    },
    {
     "data": {
      "image/png": "[encoded data removed]",
      "text/plain": [
       "<Figure size 432x288 with 1 Axes>"
      ]
     },
     "metadata": {
      "needs_background": "light"
     },
     "output_type": "display_data"
    }
   ],
   "source": [
    "val = passes[(passes.distance<35)&(passes.speed<20)]\n",
    "plt.scatter(val['distance'],val['speed'])"
   ]
  },
  {
   "cell_type": "code",
   "execution_count": 9,
   "metadata": {},
   "outputs": [],
   "source": [
    "pass_speed_max = 20\n",
    "reception_speed_max = pass_speed_max\n",
    "min_angle = 5\n",
    "max_angle = 50\n",
    "\n",
    "player_time_reaction = 0.7 #laurie\n",
    "player_acceleration = 5 #laurie reference\n",
    "player_speed_max = 5 #laurice\n",
    "\n",
    "ball_mass = 0.43 #FIFA min and max weight: 0.41 and 0.45 kg\n",
    "ball_area = math.pi*(0.69/2)**2 #Fifa min and max circumference: 0.68 and 0.70 m\n",
    "ball_drag = 0.25\n",
    "\n",
    "g = const.g \n",
    "air_density = 1.2"
   ]
  },
  {
   "cell_type": "code",
   "execution_count": 10,
   "metadata": {},
   "outputs": [],
   "source": [
    "def ball_trayectory(angle,speed):    \n",
    "    \n",
    "    dt = 0.001\n",
    "    theta = (angle/180)*math.pi\n",
    "    x,y,vx,vy = [0],[0],[speed*math.cos(theta)],[speed*math.sin(theta)]\n",
    "    \n",
    "    i=1\n",
    "    while vx[i-1]>=1:               \n",
    "        \n",
    "        x.append(x[i-1]+vx[i-1]*dt)\n",
    "        y.append(max(y[i-1]+vy[i-1]*dt,0))\n",
    "        \n",
    "        vy.append(vy[i-1] -g*dt -(air_density*ball_drag*ball_area*vy[i-1])/(2*ball_mass)*dt) \n",
    "        \n",
    "        if y[i] > 0.1:\n",
    "            vx.append(vx[i-1] -(air_density*ball_drag*ball_area*vx[i-1])/(2*ball_mass)*dt)                    \n",
    "        else:\n",
    "            #y[i] = 0\n",
    "            vx.append(vx[i-1] -6*(air_density*ball_drag*ball_area*vx[i-1])/(2*ball_mass)*dt) ## estimate\n",
    "            \n",
    "        if y[i]==0:\n",
    "            vy[i] = abs(vy[i])*0.7\n",
    "            if y[i-1]>0:\n",
    "                vx[i] = abs(vx[i])*0.7\n",
    "            if vy[i]<1:\n",
    "                vy[i] = 0\n",
    "            \n",
    "  \n",
    "        i += 1    \n",
    "        \n",
    "    return np.array(x),np.array(y)#,vx,vy"
   ]
  },
  {
   "cell_type": "code",
   "execution_count": 11,
   "metadata": {},
   "outputs": [],
   "source": [
    "passes_all = pd.DataFrame(columns=['angle','speed','distance','time'])\n",
    "trayectory_all = pd.DataFrame(columns=['angle','speed','xt','yt'])\n",
    "speeds = np.linspace(1,pass_speed_max+1,2*(pass_speed_max+1)-1)\n",
    "\n",
    "for angle in range(min_angle,max_angle+1):\n",
    "    for speed in speeds:\n",
    "        \n",
    "        x,y = ball_trayectory(angle,speed)     \n",
    "        \n",
    "        aux1 = pd.DataFrame([angle,speed,x,y]).transpose()\n",
    "        aux1.columns = ['angle','speed','xt','yt']\n",
    "        trayectory_all = trayectory_all.append(aux1)\n",
    "        \n",
    "        index = np.where([y==0])[1][1:]       \n",
    "        \n",
    "        if (angle <= min_angle)&(len(index)>0): \n",
    "            index = np.array([min(index)+x*100 for x in range(0,1+int((len(index)-min(index))/100))])          \n",
    "        \n",
    "        if len(index) > 0:            \n",
    "            aux2 = pd.DataFrame([[angle]*len(index),[speed]*len(index),np.round(x[index],1),np.round(index*0.001,1)]).transpose()\n",
    "            aux2.columns = ['angle','speed','distance','time']\n",
    "            passes_all = passes_all.append(aux2)\n",
    "            \n",
    "passes_all = passes_all.drop_duplicates()"
   ]
  },
  {
   "cell_type": "code",
   "execution_count": 12,
   "metadata": {},
   "outputs": [
    {
     "data": {
      "text/plain": [
       "(0, 35, 0, 5)"
      ]
     },
     "execution_count": 12,
     "metadata": {},
     "output_type": "execute_result"
    },
    {
     "data": {
      "image/png": "[encoded data removed]",
      "text/plain": [
       "<Figure size 432x288 with 1 Axes>"
      ]
     },
     "metadata": {
      "needs_background": "light"
     },
     "output_type": "display_data"
    }
   ],
   "source": [
    "passes_best = pd.DataFrame(columns=['angle','speed','distance','time'])\n",
    "passes_worst = pd.DataFrame(columns=['angle','speed','distance','time'])\n",
    "d = np.array([x for x in range(5,36)])\n",
    "e = 0.1\n",
    "\n",
    "for x in d:\n",
    "    aux = passes_all[(passes_all.distance>x-e)&(passes_all.distance<x+e)].sort_values('time').head(1)\n",
    "    aux2 = passes_all[(passes_all.distance>x-e)&(passes_all.distance<x+e)].sort_values('time', ascending=False).head(1)\n",
    "    passes_best = passes_best.append(aux)    \n",
    "    passes_worst = passes_worst.append(aux2)    \n",
    "    \n",
    "xx = []\n",
    "yy = []\n",
    "bins = np.linspace(1,35,69)\n",
    "for i in range(0,len(bins)-1):\n",
    "    \n",
    "    aux =  passes[(passes.distance>=bins[i])&(passes.distance<bins[i+1])]\n",
    "    den = len(aux)\n",
    "    if den > 0:\n",
    "        xx.append((bins[i]+bins[i+1])/2)\n",
    "        yy.append([np.median(aux.time)])\n",
    "        \n",
    "plt.scatter(val['distance'],val['time'])\n",
    "plt.scatter(passes_best.distance,passes_best.time,c='r')\n",
    "plt.scatter(passes_worst.distance,passes_worst.time,c='y')\n",
    "plt.scatter(xx,yy,c='g')\n",
    "plt.axis((0,35,0,5))"
   ]
  },
  {
   "cell_type": "code",
   "execution_count": 13,
   "metadata": {},
   "outputs": [],
   "source": [
    "def dist_pass(start,end,player):\n",
    "    \n",
    "    x_initial,y_initial = start[0],start[1]\n",
    "    x_final,y_final = end[0],end[1]\n",
    "    x0,y0 = player[0]*p_length,player[1]*p_width\n",
    "    \n",
    "    a = (y_final-y_initial)*p_width\n",
    "    b = (x_initial-x_final)*p_length\n",
    "    c = -a*x_initial*p_length - b*y_initial*p_width\n",
    "    \n",
    "    return float(abs(a*x0+b*y0+c)/(a**2+b**2)**0.5)"
   ]
  },
  {
   "cell_type": "code",
   "execution_count": 14,
   "metadata": {},
   "outputs": [],
   "source": [
    "def dist(pos1,pos2):\n",
    "    x0,y0 = pos1[0]*p_length, pos1[1]*p_width\n",
    "    x1,y1 = pos2[0]*p_length, pos2[1]*p_width\n",
    "    return np.linalg.norm(np.asarray([x0,y0])-np.asarray([x1,y1]))"
   ]
  },
  {
   "cell_type": "code",
   "execution_count": 15,
   "metadata": {},
   "outputs": [],
   "source": [
    "e = 0.1\n",
    "error_time = pd.DataFrame(columns=['distance','actual','model'])\n",
    "\n",
    "for i in range(len(passes)):\n",
    "    \n",
    "    model_time = None\n",
    "    \n",
    "    pass1 = passes.iloc[i]\n",
    "    actual_time = pass1.time\n",
    "    actual_distance = pass1.distance\n",
    "    start_pos = pass1[['Start X','End X']]\n",
    "    end_pos = pass1[['Start Y','End Y']]    \n",
    "    status = away[away.Frame==pass1['Start Frame']]\n",
    "    \n",
    "    intercepetions =  pd.DataFrame(columns=['distance','time'])\n",
    "\n",
    "    for player in away_players:\n",
    "        if status[player+'_x'].isnull().iloc[0]==False:\n",
    "\n",
    "            player_pos = status.iloc[0][[player+'_x',player+'_y']]\n",
    "            d1 = dist_pass(start_pos,end_pos,player_pos)\n",
    "            d2 = dist(start_pos,player_pos)\n",
    "            d3 = (d2**2-d1**2)**0.5\n",
    "            if d3 < pass1.distance-2:            \n",
    "                intercepetions.loc[len(intercepetions)] = [d3,d1/7]\n",
    "\n",
    "    intercepetions = intercepetions.sort_values('distance',ascending=False)\n",
    "    intercepetions.reset_index(drop=True)\n",
    "\n",
    "    possible = passes_all[(passes_all.distance>pass1.distance-e)&(passes_all.distance<pass1.distance+e)].sort_values('time').copy()\n",
    "    possible = possible.reset_index(drop=True)\n",
    "    \n",
    "    for i in range(int(len(possible)/15),len(possible)):\n",
    "        a,s,t = possible.iloc[i][['angle','speed','time']]\n",
    "        aux = trayectory_all[(trayectory_all.angle==a)&(trayectory_all.speed==s)][['xt','yt']]\n",
    "        aux = pd.DataFrame([aux.xt[0],aux.yt[0]]).transpose()\n",
    "        aux.columns = ['xt','yt']\n",
    "        for i in range(len(intercepetions)):\n",
    "            distance,time = intercepetions.iloc[i]\n",
    "            frame = int(time*1000)\n",
    "            if frame < len(aux):\n",
    "                xt,yt = aux.iloc[frame]\n",
    "                if (xt<distance)&(yt<2.5):\n",
    "                    break\n",
    "        model_time = t\n",
    "        break    \n",
    "        \n",
    "    error_time.loc[len(error_time)] = [actual_distance,actual_time,model_time]"
   ]
  },
  {
   "cell_type": "code",
   "execution_count": 16,
   "metadata": {},
   "outputs": [
    {
     "data": {
      "text/plain": [
       "0.00902061855670103"
      ]
     },
     "execution_count": 16,
     "metadata": {},
     "output_type": "execute_result"
    }
   ],
   "source": [
    "len(error_time[error_time.model.isnull()])/len(error_time)"
   ]
  },
  {
   "cell_type": "code",
   "execution_count": 17,
   "metadata": {},
   "outputs": [],
   "source": [
    "error_time['error_perc'] = (error_time.actual-error_time.model)/error_time.actual"
   ]
  },
  {
   "cell_type": "code",
   "execution_count": 18,
   "metadata": {},
   "outputs": [],
   "source": [
    "error_final = error_time[(~error_time.model.isnull())&(error_time.actual>0.1)]"
   ]
  },
  {
   "cell_type": "code",
   "execution_count": 19,
   "metadata": {},
   "outputs": [
    {
     "data": {
      "text/plain": [
       "-0.04733246029041446"
      ]
     },
     "execution_count": 19,
     "metadata": {},
     "output_type": "execute_result"
    }
   ],
   "source": [
    "np.mean(error_final.error_perc)"
   ]
  },
  {
   "cell_type": "code",
   "execution_count": 20,
   "metadata": {},
   "outputs": [
    {
     "data": {
      "text/plain": [
       "3.7932620008024745e-14"
      ]
     },
     "execution_count": 20,
     "metadata": {},
     "output_type": "execute_result"
    }
   ],
   "source": [
    "np.median(error_final.error_perc)"
   ]
  },
  {
   "cell_type": "code",
   "execution_count": 21,
   "metadata": {},
   "outputs": [
    {
     "data": {
      "image/png": "[encoded data removed]",
      "text/plain": [
       "<Figure size 432x288 with 1 Axes>"
      ]
     },
     "metadata": {
      "needs_background": "light"
     },
     "output_type": "display_data"
    }
   ],
   "source": [
    "plt.hist(error_final.error_perc,bins=[i/100 for i in range(-100,100)])\n",
    "plt.show()"
   ]
  },
  {
   "cell_type": "code",
   "execution_count": 22,
   "metadata": {},
   "outputs": [
    {
     "data": {
      "text/plain": [
       "0.6718954248366014"
      ]
     },
     "execution_count": 22,
     "metadata": {},
     "output_type": "execute_result"
    }
   ],
   "source": [
    "len(error_final[(error_final.error_perc<0.3)&(error_final.error_perc>-0.3)])/len(error_final)"
   ]
  },
  {
   "cell_type": "code",
   "execution_count": 23,
   "metadata": {},
   "outputs": [
    {
     "data": {
      "text/plain": [
       "<matplotlib.collections.PathCollection at 0x169b97dfd48>"
      ]
     },
     "execution_count": 23,
     "metadata": {},
     "output_type": "execute_result"
    },
    {
     "data": {
      "image/png": "[encoded data removed]",
      "text/plain": [
       "<Figure size 432x288 with 1 Axes>"
      ]
     },
     "metadata": {
      "needs_background": "light"
     },
     "output_type": "display_data"
    }
   ],
   "source": [
    "plt.scatter(error_final['distance'],error_final['actual'],c='b')\n",
    "plt.scatter(error_final['distance'],error_final['model'],c='r')"
   ]
  },
  {
   "cell_type": "code",
   "execution_count": null,
   "metadata": {},
   "outputs": [],
   "source": []
  },
  {
   "cell_type": "code",
   "execution_count": null,
   "metadata": {},
   "outputs": [],
   "source": []
  }
 ],
 "metadata": {
  "kernelspec": {
   "display_name": "Python 3",
   "language": "python",
   "name": "python3"
  },
  "language_info": {
   "codemirror_mode": {
    "name": "ipython",
    "version": 3
   },
   "file_extension": ".py",
   "mimetype": "text/x-python",
   "name": "python",
   "nbconvert_exporter": "python",
   "pygments_lexer": "ipython3",
   "version": "3.7.6"
  }
 },
 "nbformat": 4,
 "nbformat_minor": 4
}
