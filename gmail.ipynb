{
 "cells": [
  {
   "cell_type": "code",
   "execution_count": 1,
   "metadata": {},
   "outputs": [],
   "source": [
    "import smtplib"
   ]
  },
  {
   "cell_type": "code",
   "execution_count": 12,
   "metadata": {},
   "outputs": [],
   "source": [
    "gmail_user = 'claudio.flores@allazohealth.com'\n",
    "gmail_password = 'bkftzsddxqbjlqtr'\n",
    "\n",
    "recepients = ['claudio.flores@allazohealth.com']\n",
    "subject = 'Test Email'\n",
    "body = 'Hey, what''s up?\\n\\n- You'\n",
    "\n",
    "email_text = \"\"\"\\\n",
    "From: %s\n",
    "To: %s\n",
    "Subject: %s\n",
    "\n",
    "%s\n",
    "\"\"\" % (gmail_user, \", \".join(to),subject, body)"
   ]
  },
  {
   "cell_type": "code",
   "execution_count": 13,
   "metadata": {},
   "outputs": [],
   "source": [
    "def gmail_send_report(user,password,to,text):\n",
    "    try:\n",
    "        server = smtplib.SMTP_SSL('smtp.gmail.com', 465)\n",
    "        server.ehlo()\n",
    "        server.login(gmail_user, gmail_password)\n",
    "        server.sendmail(gmail_user, to, email_text)\n",
    "        server.close()\n",
    "        print('Email sent!')\n",
    "    except:\n",
    "        print('Something went wrong...')"
   ]
  },
  {
   "cell_type": "code",
   "execution_count": 14,
   "metadata": {},
   "outputs": [
    {
     "name": "stdout",
     "output_type": "stream",
     "text": [
      "Email sent!\n"
     ]
    }
   ],
   "source": [
    "gmail_send_report(gmail_user,gmail_password,recepients,email_text)"
   ]
  },
  {
   "cell_type": "code",
   "execution_count": null,
   "metadata": {},
   "outputs": [],
   "source": []
  },
  {
   "cell_type": "code",
   "execution_count": null,
   "metadata": {},
   "outputs": [],
   "source": []
  },
  {
   "cell_type": "code",
   "execution_count": 40,
   "metadata": {},
   "outputs": [
    {
     "data": {
      "text/plain": [
       "(221, b'2.0.0 closing connection t6sm453822ioi.20 - gsmtp')"
      ]
     },
     "execution_count": 40,
     "metadata": {},
     "output_type": "execute_result"
    }
   ],
   "source": [
    "msg = MIMEText('body')\n",
    "msg['Subject'] = 'subject'\n",
    "msg['From'] = formataddr((str(Header('MyWebsite', 'utf-8')), 'from@mywebsite.com')) #\"Claudio <claudio@claudio.com>\"\n",
    "msg['To'] = gmail_user\n",
    "msg['Reply-To'] = sent_from\n",
    "\n",
    "\n",
    "server = smtplib.SMTP('smtp.gmail.com:587')\n",
    "server.starttls()\n",
    "server.login(gmail_user,gmail_password)  \n",
    "server.sendmail(sent_from, to, msg.as_string())\n",
    "server.quit()    "
   ]
  },
  {
   "cell_type": "code",
   "execution_count": 39,
   "metadata": {},
   "outputs": [],
   "source": [
    "from email.utils import formataddr\n",
    "from email.header import Header"
   ]
  },
  {
   "cell_type": "code",
   "execution_count": 43,
   "metadata": {},
   "outputs": [
    {
     "data": {
      "text/plain": [
       "(221, b'2.0.0 closing connection w4sm466593ioc.23 - gsmtp')"
      ]
     },
     "execution_count": 43,
     "metadata": {},
     "output_type": "execute_result"
    }
   ],
   "source": [
    "#send html email\n",
    "import smtplib\n",
    "from email.mime.multipart import MIMEMultipart\n",
    "from email.mime.text import MIMEText\n",
    "from email.header import Header\n",
    "from email.utils import formataddr\n",
    "\n",
    "msg = MIMEMultipart('alternative')\n",
    "msg['From'] = formataddr((str(Header('MyWebsite', 'utf-8')), 'from@mywebsite.com'))\n",
    "msg['To'] = 'to@email.com'\n",
    "\n",
    "html = \"email contents\"\n",
    "\n",
    "msg.attach(MIMEText(html, 'html'))\n",
    "\n",
    "s = smtplib.SMTP('smtp.gmail.com:587')\n",
    "s.starttls()\n",
    "s.login(gmail_user,gmail_password)  \n",
    "s.sendmail('from@mywebsite.com', 'cflores.uc@gmail.com', msg.as_string())\n",
    "s.quit()"
   ]
  },
  {
   "cell_type": "code",
   "execution_count": 44,
   "metadata": {},
   "outputs": [],
   "source": [
    "EMAIL_USE_TLS = True\n",
    "EMAIL_PORT = 587\n",
    "EMAIL_HOST = 'smtp.gmail.com'\n",
    "EMAIL_HOST_USER = 'cflores.uc@gmail.com'\n",
    "EMAIL_HOST_PASSWORD = 'cayo1987!'\n",
    "EMAIL_BACKEND = 'django.core.mail.backends.smtp.EmailBackend'"
   ]
  },
  {
   "cell_type": "code",
   "execution_count": 1,
   "metadata": {},
   "outputs": [],
   "source": [
    "from django.shortcuts import render, HttpResponse\n",
    "from django.core.mail import send_mail as sm\n",
    "\n",
    "def send_mail(request):\n",
    "    res = sm(\n",
    "        subject = 'Subject here',\n",
    "        message = 'Here is the message.',\n",
    "        from_email = 'mail@gmail.com',\n",
    "        recipient_list = ['claudioflores@pm.me','cflores.uc@gmail.cm'],\n",
    "        fail_silently=False,\n",
    "    )    \n",
    "\n",
    "    return HttpResponse(f\"Email sent to {res} members\")\n",
    "    #return HttpResponse(\"Email sent to \"+ res +\" members\")"
   ]
  },
  {
   "cell_type": "code",
   "execution_count": 3,
   "metadata": {},
   "outputs": [
    {
     "ename": "TypeError",
     "evalue": "send_mail() missing 1 required positional argument: 'request'",
     "output_type": "error",
     "traceback": [
      "\u001b[1;31m---------------------------------------------------------------------------\u001b[0m",
      "\u001b[1;31mTypeError\u001b[0m                                 Traceback (most recent call last)",
      "\u001b[1;32m<ipython-input-3-c599cb89c2b8>\u001b[0m in \u001b[0;36m<module>\u001b[1;34m\u001b[0m\n\u001b[1;32m----> 1\u001b[1;33m \u001b[0msend_mail\u001b[0m\u001b[1;33m(\u001b[0m\u001b[1;33m)\u001b[0m\u001b[1;33m\u001b[0m\u001b[1;33m\u001b[0m\u001b[0m\n\u001b[0m",
      "\u001b[1;31mTypeError\u001b[0m: send_mail() missing 1 required positional argument: 'request'"
     ]
    }
   ],
   "source": [
    "send_mail()"
   ]
  },
  {
   "cell_type": "code",
   "execution_count": null,
   "metadata": {},
   "outputs": [],
   "source": []
  }
 ],
 "metadata": {
  "kernelspec": {
   "display_name": "Python [conda env:.conda-emails] *",
   "language": "python",
   "name": "conda-env-.conda-emails-py"
  },
  "language_info": {
   "codemirror_mode": {
    "name": "ipython",
    "version": 3
   },
   "file_extension": ".py",
   "mimetype": "text/x-python",
   "name": "python",
   "nbconvert_exporter": "python",
   "pygments_lexer": "ipython3",
   "version": "3.7.7"
  }
 },
 "nbformat": 4,
 "nbformat_minor": 4
}
